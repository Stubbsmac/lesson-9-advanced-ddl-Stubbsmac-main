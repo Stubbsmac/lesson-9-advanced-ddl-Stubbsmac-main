{
    "metadata": {
        "kernelspec": {
            "name": "SQL",
            "display_name": "SQL",
            "language": "sql"
        },
        "language_info": {
            "name": "sql",
            "version": ""
        }
    },
    "nbformat_minor": 2,
    "nbformat": 4,
    "cells": [
        {
            "cell_type": "markdown",
            "source": [
                "# **Advanced DDL & Window Queries**\n",
                "\n",
                "In this notebook we will continue to build on the DDL concepts that we learned last week. We will also learn to write window queries to simplify data retrieval.\n",
                "\n",
                "## **Advanced DDL**\n",
                "\n",
                "### **CREATE Statements with Constraints**\n",
                "\n",
                "Last week we learned to write CREATE statements to add a new table to a database. When writing a CREATE script we can do more than specify the columns and data types. We can also establish a primary key, add a foreign key, and implement other constraints. This makes our database tables more organized and secure. It is also crucial for maintaining data integrity. <span style=\"color: var(--vscode-foreground); font-family: -apple-system, BlinkMacSystemFont, sans-serif;\">In addition to adding constraints, we can also implement useful features like an auto-incrementing value for a primary key and variables to hold values for later use.</span>\n",
                "\n",
                "<span style=\"color: var(--vscode-foreground); font-family: -apple-system, BlinkMacSystemFont, sans-serif;\"><br></span>\n",
                "\n",
                "<span style=\"color: var(--vscode-foreground); font-family: -apple-system, BlinkMacSystemFont, sans-serif;\">Throughout this notebook we will write scripts to create and load database tables to manage information for a hotel. We will start by creating a guest table where we define an auto-incrementing primary key within our CREATE statement. We will also use the keywords <i>UNIQUE </i>and <i>NOT NULL</i>&nbsp;to ensure that some columns do not allow duplicate or null values. Below is a breakdown of what the new keywords in this query do:</span>\n",
                "\n",
                "- <span style=\"color: var(--vscode-foreground); font-family: -apple-system, BlinkMacSystemFont, sans-serif;\">IDENTITY- A function that generates values for a column automatically based on two arguments, the seed and increment. The seed is the starting value and the increment is the amount it increases by. So, if we used IDENTITY(3,4) the first value would be 3, the next would be 7, and then 11. This is how we make our primary keys increase automatically without relying on subqueries.</span>\n",
                "    - <span style=\"color: var(--vscode-foreground); font-family: -apple-system, BlinkMacSystemFont, sans-serif;\">If a record is deleted or rolled back, the system will not reuse the number that was generated for the missing record. There will just be a gap in the numbering.</span>\n",
                "- <span style=\"color: var(--vscode-foreground); font-family: -apple-system, BlinkMacSystemFont, sans-serif;\">PRIMARY KEY: This keyword marks an attribute as being the primary key for a table. Marking an attribute as primary key does the following:</span>\n",
                "    - <span style=\"color: var(--vscode-foreground); font-family: -apple-system, BlinkMacSystemFont, sans-serif;\">Ensure uniqueness and does allow duplicate values</span>\n",
                "    - <span style=\"color: var(--vscode-foreground); font-family: -apple-system, BlinkMacSystemFont, sans-serif;\">Does not allow null values to be inserted into the field</span>\n",
                "    - <span style=\"color: var(--vscode-foreground); font-family: -apple-system, BlinkMacSystemFont, sans-serif;\">Creates an index on the field (we will learn more about this soon)</span>\n",
                "- UNIQUE: When a field is marked as UNIQUE, scripts that would insert a duplicate value into the field will result in an error. This ensures data integrity where values must be unique.\n",
                "- NOT NULL: Marking a field as NOT NULL will make it so that scripts that would insert a null value into the field will result in an error.\n",
                "\n",
                "We use these commands by specifying them for relevant attributes _after_ we specify the data type."
            ],
            "metadata": {
                "azdata_cell_guid": "bfe661ce-1a7b-41a8-a660-e1cc0840a1c5"
            },
            "attachments": {}
        },
        {
            "cell_type": "code",
            "source": [
                "-- Create Guests table\n",
                "CREATE TABLE ho_guest (\n",
                "    guest_id INT IDENTITY(1,1) PRIMARY KEY, --Assign guest_id as the primary key for the table\n",
                "    first_name VARCHAR(50),\n",
                "    last_name VARCHAR(50),\n",
                "    phone_number VARCHAR(15) UNIQUE, --Ensure that all phone_numbers are unique\n",
                "    email VARCHAR(100) UNIQUE NOT NULL, --Ensure that all emails are unique and that there are no null values\n",
                "    address VARCHAR(255)\n",
                ");"
            ],
            "metadata": {
                "azdata_cell_guid": "fdf6e47a-8ed8-4bb2-956d-e11e4e4c5c60",
                "language": "sql"
            },
            "outputs": [],
            "execution_count": null
        },
        {
            "cell_type": "markdown",
            "source": [
                "Now we can insert some data into the guest table. Note that we do not have to include a value for guest\\_id since it is setup as an identity."
            ],
            "metadata": {
                "language": "sql",
                "azdata_cell_guid": "1005598e-211a-4b94-a076-1027f853f41d"
            },
            "attachments": {}
        },
        {
            "cell_type": "code",
            "source": [
                "BEGIN TRANSACTION;\n",
                "    BEGIN TRY\n",
                "        INSERT INTO ho_guest VALUES\n",
                "        ('John', 'Doe', '123-456-7890', 'john.doe@example.com', '123 Maple Street'),\n",
                "        ('Jane', 'Smith', '987-654-3210', 'jane.smith@example.com', '456 Oak Avenue'),\n",
                "        ('Robert', 'Brown', '555-123-4567', 'robert.brown@example.com', '789 Pine Road'),\n",
                "        ('Emily', 'Davis', '444-555-6666', 'emily.davis@example.com', '101 Birch Lane'),\n",
                "        ('Michael', 'Wilson', '333-222-1111', 'michael.wilson@example.com', '202 Cedar Street'),\n",
                "        ('Jessica', 'Taylor', '777-888-9999', 'jessica.taylor@example.com', '303 Spruce Drive'),\n",
                "        ('David', 'Anderson', '888-777-6666', 'david.anderson@example.com', '404 Elm Court');\n",
                "        COMMIT;\n",
                "    END TRY\n",
                "    BEGIN CATCH\n",
                "        PRINT 'Error message: ' + ERROR_MESSAGE();\n",
                "        ROLLBACK;\n",
                "    END CATCH;"
            ],
            "metadata": {
                "language": "sql",
                "azdata_cell_guid": "b2efe3bd-b4ff-4fb5-ad28-27f36cac8d03"
            },
            "outputs": [],
            "execution_count": null
        },
        {
            "cell_type": "code",
            "source": [
                "--View inserted records\n",
                "SELECT * FROM ho_guest"
            ],
            "metadata": {
                "language": "sql",
                "azdata_cell_guid": "298f0949-7169-4630-88a9-0c5574b9f72d"
            },
            "outputs": [],
            "execution_count": null
        },
        {
            "cell_type": "markdown",
            "source": [
                "In the below cell we will demonstrate what happens when an insertion for a table with an identity column fails."
            ],
            "metadata": {
                "language": "sql",
                "azdata_cell_guid": "bc5e1118-246a-472f-914e-fbcf3ea8f15b"
            },
            "attachments": {}
        },
        {
            "cell_type": "code",
            "source": [
                "BEGIN TRANSACTION;\n",
                "    BEGIN TRY\n",
                "        INSERT INTO ho_guest VALUES\n",
                "        ('Kayla', 'Lemon', '573-673-7583', 'kayla.lemon.com', '872 Oyster Street'),\n",
                "        ('Jason', 'File', '123-456-7890', 'jason.file@example.com', '345 Maple Street'); --insert will fail because phone number is not unique\n",
                "        COMMIT;\n",
                "    END TRY\n",
                "    BEGIN CATCH\n",
                "        PRINT 'Error message: ' + ERROR_MESSAGE();\n",
                "        ROLLBACK;\n",
                "    END CATCH;"
            ],
            "metadata": {
                "language": "sql",
                "azdata_cell_guid": "068aa2cc-eb1e-4ed4-90ff-17607764b691"
            },
            "outputs": [],
            "execution_count": null
        },
        {
            "cell_type": "markdown",
            "source": [
                "The inserted records would have had a guest\\_id of 8 and 9 because those were next in the identity insert. Since the transaction failed, the id numbers that were generated for each record will no longer be used. They were \"used up\"  The below cell corrects the issue, let's insert the data and observe the results."
            ],
            "metadata": {
                "language": "sql",
                "azdata_cell_guid": "625b9fde-1c39-4cb2-bc13-cf4fb2d69025"
            },
            "attachments": {}
        },
        {
            "cell_type": "code",
            "source": [
                "BEGIN TRANSACTION;\n",
                "    BEGIN TRY\n",
                "        INSERT INTO ho_guest VALUES\n",
                "        ('Kayla', 'Lemon', '573-673-7583', 'kayla.lemon.com', '872 Oyster Street'),\n",
                "        ('Jason', 'File', '986-456-7890', 'jason.file@example.com', '345 Maple Street'); --updated phone number to be unique\n",
                "        COMMIT;\n",
                "    END TRY\n",
                "    BEGIN CATCH\n",
                "        PRINT 'Error message: ' + ERROR_MESSAGE();\n",
                "        ROLLBACK;\n",
                "    END CATCH;"
            ],
            "metadata": {
                "language": "sql",
                "azdata_cell_guid": "cf76d1cf-bd86-438d-9040-f1cc252e9eab"
            },
            "outputs": [],
            "execution_count": null
        },
        {
            "cell_type": "code",
            "source": [
                "--View inserted data\n",
                "SELECT * FROM ho_guest"
            ],
            "metadata": {
                "language": "sql",
                "azdata_cell_guid": "86b2e199-1ff8-4948-a18e-5a44215fedd1"
            },
            "outputs": [],
            "execution_count": null
        },
        {
            "cell_type": "markdown",
            "source": [
                "We can see from the above results that id numbers 8 and 9 were skipped. It is important that you have an understanding of the kind of behaviors that can result in gaps in identity id numbers, and that an id number isn't always the best indicator of how many records are in a table.\n",
                "\n",
                "### ✏️ **Practice**\n",
                "\n",
                "Script a CREATE statement to add an ho\\_room table to your database with the following specifications:\n",
                "\n",
                "- room\\_id (Primary Key) Automatically increment by 1 starting at 1\n",
                "- room\\_number (Unique, Not Null)\n",
                "- room\\_type (e.g., Single, Double, Suite)\n",
                "- price\\_per\\_night\n",
                "- availability (BIT)\n",
                "\n",
                "Afterward, script a transaction that inserts the following data into the table:\n",
                "|room_id|room_number|room_type|price_per_night|availability|\n",
                "|---|---|---|---|---|\n",
                "|1|101|Single|75.00|1|\n",
                "|2|102|Single|75.00|0|\n",
                "|3|103|Double|120.00|1|\n",
                "|4|104|Double|120.00|0|\n",
                "|5|201|Suite|200.00|1|\n",
                "|6|202|Suite|200.00|0|\n",
                "|7|203|Single|75.00|1|\n",
                "|8|204|Double|120.00|1|\n",
                "|9|301|Suite|250.00|1|\n",
                "|10|302|Single|80.00|0|\n",
                ""
            ],
            "metadata": {
                "language": "sql",
                "azdata_cell_guid": "227e9b9b-86fd-4d2f-a12f-bd910c9f628f"
            },
            "attachments": {}
        },
        {
            "cell_type": "code",
            "source": [
                "--Create room table\n",
                "--Your code here"
            ],
            "metadata": {
                "language": "sql",
                "azdata_cell_guid": "83bfc12d-83d3-441a-b083-89da70691927"
            },
            "outputs": [],
            "execution_count": null
        },
        {
            "cell_type": "code",
            "source": [
                "--Insert data to room table\n",
                "--Your code here"
            ],
            "metadata": {
                "language": "sql",
                "azdata_cell_guid": "4a15d20e-10d4-4360-8aef-faf861aac05b"
            },
            "outputs": [],
            "execution_count": null
        },
        {
            "cell_type": "markdown",
            "source": [
                "Now that we have a couple of tables to work with, we can setup a table that has foreign key constraints. Foreign key constraints ensure that a reocrd cannot be inserted into a table if there is not a related record in another table. For this example we will be adding a reservation table. Each reservation must be related to a guest and a room, so we will be adding foreign key constraints to the room\\_id and guest\\_id attributes. We do not define foreign keys the same way as primary keys. To establish an attribute as a foreign key we add a REFERENCE at the end of the CREATE statement that indicates what table and column the foreign key is related to. We do this by using the keyword CONSTRAINT, giving the constraint a name (usually starts with fk and includes both the source and referenced table/column) and then the syntax for defining the foreign key."
            ],
            "metadata": {
                "language": "sql",
                "azdata_cell_guid": "03de1d89-7abd-455a-8426-16c45569cb09"
            },
            "attachments": {}
        },
        {
            "cell_type": "code",
            "source": [
                "-- Create Reservations table\n",
                "CREATE TABLE ho_reservation (\n",
                "    reservation_id INT IDENTITY(1,1) PRIMARY KEY,\n",
                "    guest_id INT,\n",
                "    room_id INT,\n",
                "    check_in_date DATE,\n",
                "    check_out_date DATE,\n",
                "    total_amount DECIMAL(10, 2),\n",
                "    CONSTRAINT fk_reservation_guest_id_ref_guest_guest_id FOREIGN KEY (guest_id) REFERENCES ho_guest(guest_id), --guest_id is a foreign key that references the guest_id in ho_guest\n",
                "    CONSTRAINT fk_reservation_room_id_ref_room_room_id FOREIGN KEY (room_id) REFERENCES ho_room(room_id) ----room_id is a foreign key that references the room_id in ho_room\n",
                ");"
            ],
            "metadata": {
                "language": "sql",
                "azdata_cell_guid": "5cf8cdb3-848d-4e8a-a08b-9d2c465bf07e",
                "tags": []
            },
            "outputs": [],
            "execution_count": null
        },
        {
            "cell_type": "markdown",
            "source": [
                "The above script creates a reservation table that ensures that each guest and room id entered into this table exists in their referenced tables. If we attempt to add data into the tables that violates the foreign key constraint, then we will get an error:"
            ],
            "metadata": {
                "language": "sql",
                "azdata_cell_guid": "46189d7d-d32f-4617-acf7-141ae1cd54b2"
            },
            "attachments": {}
        },
        {
            "cell_type": "code",
            "source": [
                "--Insert data into ho_reservation\n",
                "BEGIN TRANSACTION;\n",
                "    BEGIN TRY\n",
                "        INSERT INTO ho_reservation VALUES\n",
                "        (1, 1, '2024-07-01', '2024-07-05', 300.00),\n",
                "        (2, 13, '2024-07-02', '2024-07-06', 300.00); --The room_id we are trying to insert is not present in the ho_room table\n",
                "        COMMIT;\n",
                "    END TRY\n",
                "    BEGIN CATCH\n",
                "        PRINT 'Error message: ' + ERROR_MESSAGE();\n",
                "        ROLLBACK;\n",
                "    END CATCH;"
            ],
            "metadata": {
                "language": "sql",
                "azdata_cell_guid": "587f9dea-912f-46aa-8c41-ea4a1c23e5b8"
            },
            "outputs": [],
            "execution_count": null
        },
        {
            "cell_type": "markdown",
            "source": [
                "The above cell results in an error because we attempted to insert a value into the table that violates the foreign key constraint that we established. To fix this we can either change the room\\_id to one that is in the room table, or we can add the room\\_id (13) to the room table. For simplicity sake we will just change the room\\_id we are inserting."
            ],
            "metadata": {
                "language": "sql",
                "azdata_cell_guid": "e324239f-e4a7-45d6-b5f2-071c7600d5fa"
            },
            "attachments": {}
        },
        {
            "cell_type": "code",
            "source": [
                "--Insert data into ho_reservation\n",
                "BEGIN TRANSACTION;\n",
                "    BEGIN TRY\n",
                "        INSERT INTO ho_reservation VALUES\n",
                "        (1, 1, '2024-07-01', '2024-07-05', 300.00),\n",
                "        (2, 2, '2024-07-02', '2024-07-06', 300.00); --The room_id we are trying to insert is not present in the ho_room table\n",
                "        COMMIT;\n",
                "    END TRY\n",
                "    BEGIN CATCH\n",
                "        PRINT 'Error message: ' + ERROR_MESSAGE();\n",
                "        ROLLBACK;\n",
                "    END CATCH;"
            ],
            "metadata": {
                "language": "sql",
                "azdata_cell_guid": "f8799f70-dd7d-4e62-88ac-df5153b50c6d"
            },
            "outputs": [],
            "execution_count": null
        },
        {
            "cell_type": "code",
            "source": [
                "--View records to verify insertion\n",
                "SELECT * FROM ho_reservation"
            ],
            "metadata": {
                "language": "sql",
                "azdata_cell_guid": "ae0b1e96-de59-49a6-9f01-0b63d9297d9b"
            },
            "outputs": [],
            "execution_count": null
        },
        {
            "cell_type": "markdown",
            "source": [
                "Beyond foreign key constraints, there are other types of constraints that we can implement. Below is a CREATE statement to add a services table to the hotel database. This statement includes a variety of constraints for demonstration."
            ],
            "metadata": {
                "language": "sql",
                "azdata_cell_guid": "dbcb84d1-93cb-49a1-aa6c-8e288c50f45e"
            },
            "attachments": {}
        },
        {
            "cell_type": "code",
            "source": [
                "-- Create Services table\n",
                "CREATE TABLE ho_services (\n",
                "    service_id INT PRIMARY KEY, -- Primary key\n",
                "    service_name VARCHAR(100) NOT NULL UNIQUE, -- Ensure service names are unique and not null\n",
                "    service_description VARCHAR(255),\n",
                "    price DECIMAL(10, 2) NOT NULL CHECK (price >= 0.00), -- Ensure price is non-negative\n",
                "    max_capacity INT DEFAULT 10 CHECK (max_capacity > 0 AND max_capacity <= 100), -- Default value and range constraint\n",
                "    available_from TIME,\n",
                "    available_to TIME,\n",
                "    CHECK (available_from < available_to) -- Ensure the available_from time is before the available_to time\n",
                ");"
            ],
            "metadata": {
                "language": "sql",
                "azdata_cell_guid": "1b90c465-c4c9-4a5a-a594-f878f51f0d4b",
                "tags": [
                    "hide_input"
                ]
            },
            "outputs": [],
            "execution_count": null
        },
        {
            "cell_type": "markdown",
            "source": [
                "In the above cell we use several different kinds of constraints. Below is a short summary of each:\n",
                "\n",
                "- DEFAULT- Defines a default value for the attribute\n",
                "- CHECK- This keyword should be paired with a condition. If the condition evaluates to true, the script will execute normally, if the condition evaluates to false the query will return an error. If multiple CHECKs are present then they are evaluated in the order they are listed. You can use logical operators like AND/OR/NOT with your conditions if you need to assess multiple conditions in one CHECK.\n",
                "\n",
                "## **More About DROP Statements**\n",
                "\n",
                "We can add a special syntax to our DROP statements to make them more dynamic. By using IF EXISTS we will only try to run the DROP operation if the table actually exists. In the code cell below we try to drop a non-existent table the way we did last week, which results in an error:"
            ],
            "metadata": {
                "language": "sql",
                "azdata_cell_guid": "25f8b870-b560-4e4b-9b8b-b4321ebebac9"
            },
            "attachments": {}
        },
        {
            "cell_type": "code",
            "source": [
                "--Drop table incorrectly\n",
                "DROP TABLE ho_parking"
            ],
            "metadata": {
                "language": "sql",
                "azdata_cell_guid": "98b315c6-26bb-4c54-a191-5f0bfe582bb4"
            },
            "outputs": [],
            "execution_count": null
        },
        {
            "cell_type": "markdown",
            "source": [
                "The below cell implements IF EXISTS, which prevents the error from occuring:"
            ],
            "metadata": {
                "language": "sql",
                "azdata_cell_guid": "4d175ef1-0858-46ee-8dd3-86ab23e9bd49"
            },
            "attachments": {}
        },
        {
            "cell_type": "code",
            "source": [
                "--Drop table correctly\n",
                "DROP TABLE IF EXISTS ho_parking\n",
                ""
            ],
            "metadata": {
                "language": "sql",
                "azdata_cell_guid": "86e5332e-c54c-453a-956a-e1a839411efd"
            },
            "outputs": [],
            "execution_count": null
        },
        {
            "cell_type": "markdown",
            "source": [
                "## **Working with Indexes**\n",
                "\n",
                "Indexes are a data structure that improves the speed of data retrieval, but at the cost of additional _write_ operations and storage space to maintain the index. When we create an index, it is a seperate data structure from our table. It reorganizes the data in a way that makes it faster to sort through.\n",
                "\n",
                "**Clustered Index:** Each table can only have one clustered index, and this defines the order that data is stored in the table or object. This determines the default order that data is sorted through when queried. This is usually the primary key.\n",
                "\n",
                "**Un-Clustered Index:** You can have as many of these as you want for each of your tables. These indexes divide data up into categories so that the database engine can identify all data in a category, and then sort through that for what it needs instead of all records.\n",
                "\n",
                "The best way to explain is with an example. Instead of a database, imagine that we have paper files in a filing cabinet. We have a file for each of our customers that are sorted in our filing cabinet by customer ID number. This is our main filing cabinet and could be thought of as using the clustered index. Everytime we want to find a customer, we start at the beginning of this filing cabinet and flip through each file until we find the one we are looking for.\n",
                "\n",
                "There are often times that we need to pull out all customer files for specific regions. To make things easier, we bring in a second filing cabinet that has records grouped by region. The second filing cabinet is an un-clustered index on the region field.\n",
                "\n",
                "It is your job to pull out the customer file for each customer in Region A. Would it be faster to sort through each record one by one in the first filing cabinet, or search for the section containing all records from Region A in the second filing cabinet (since they are already sorted)? The fastest way would be to use the second cabinet.\n",
                "\n",
                "Using the second cabinet made it much easier to pull out the needed data, but it takes time to keep it sorted and it takes up more space in the storage closet because it is a completely seperate cabinet. This is how databases work. Each index you add is like adding a whole new version of that table that is sorted differently. It can make it much faster to pull out data, but it takes up more space and processing power because each time there is a change, the \"cabinet\" needs to resort all of its files so they are in order again.\n",
                "\n",
                "Now, after that lengthy explanation, here is the code that you can use to setup a field as a non-clustered index. We will be using the phone number field for guests:"
            ],
            "metadata": {
                "language": "sql",
                "azdata_cell_guid": "924cefb3-d1a5-4ccd-b71e-53782462a604"
            },
            "attachments": {}
        },
        {
            "cell_type": "code",
            "source": [
                "CREATE NONCLUSTERED INDEX IDX_ho_guest_phone_number --We name the index in the style IDX_TableName_ColumnName\n",
                "ON ho_guest (phone_number) --We use the ON operator to specify which table and column(S) we want to create the index for"
            ],
            "metadata": {
                "language": "sql",
                "azdata_cell_guid": "02bc277d-ba7b-40aa-84cf-5b87ab0686d2"
            },
            "outputs": [],
            "execution_count": null
        },
        {
            "cell_type": "markdown",
            "source": [
                "Normally we could write a couple of queries that would demonstrate the time difference in searching for a specific phone number before and after implementing the index, but the tables we are using don't have enough data for our index to make a noticable difference. Any percieved difference will be due to connection speed, not indexing.\n",
                "\n",
                "### **✏️ Practice**\n",
                "\n",
                "In the below code cell, implement an unclustered index on room number in the room table."
            ],
            "metadata": {
                "language": "sql",
                "azdata_cell_guid": "5d929f47-e709-4fd7-8eb8-48ef1afa037c"
            },
            "attachments": {}
        },
        {
            "cell_type": "code",
            "source": [
                "--You code here\n",
                "CREATE"
            ],
            "metadata": {
                "language": "sql",
                "azdata_cell_guid": "920f9d06-c33c-4284-a962-0602baa9e7d3"
            },
            "outputs": [],
            "execution_count": null
        },
        {
            "cell_type": "markdown",
            "source": [
                "## **Set Operations**\n",
                "\n",
                "There are often times when we will need to combine or compare the results of two select statements. We could do this using JOINs or subquerying, but SQL provides _set operators_ to make these tasks a little more straightforward. Below are the set operators we will be exploring:\n",
                "\n",
                "- UNION: Merges all unique rows from two or more SELECT statements, eliminating duplicates.\n",
                "- UNION ALL: Merges all rows from two or more SELECT statements, keeping duplicates.\n",
                "- INTERSECT: Returns only the rows that appear in both SELECT statements.\n",
                "- EXCEPT: Returns rows from the first SELECT statement that don't appear in the second.\n",
                "\n",
                "The simple hotel system is not the best database to demonstrate these operations, so we will be shifting to the storage unit databse.\n",
                "\n",
                "  \n",
                "\n",
                "Below are two cells with SELECT statements that each select different sets of data, with the same schema (columns):"
            ],
            "metadata": {
                "language": "sql",
                "azdata_cell_guid": "b3e91d16-0d93-440b-82f0-952e11956135"
            },
            "attachments": {}
        },
        {
            "cell_type": "code",
            "source": [
                "--SELECT statement #1\n",
                "SELECT c.first_name, c.last_name, c.phone_number, u.unit_number, f.city\n",
                "FROM su_customer as c\n",
                "JOIN su_rental as r ON c.customer_id = r.customer_id\n",
                "JOIN su_unit as u ON r.unit_id = u.unit_id\n",
                "JOIN su_facility as f ON u.facility_id = f.facility_id\n",
                "JOIN su_invoice as i ON r.rental_id = i.rental_id\n",
                "WHERE i.amount > 400"
            ],
            "metadata": {
                "language": "sql",
                "azdata_cell_guid": "20fb0d49-d063-44cf-ac00-f300048f9cc9"
            },
            "outputs": [],
            "execution_count": null
        },
        {
            "cell_type": "code",
            "source": [
                "--SELECT statement #2\n",
                "SELECT c.first_name, c.last_name, c.phone_number, u.unit_number, f.city\n",
                "FROM su_customer as c\n",
                "JOIN su_rental as r ON c.customer_id = r.customer_id\n",
                "JOIN su_unit as u ON r.unit_id = u.unit_id\n",
                "JOIN su_facility as f ON u.facility_id = f.facility_id\n",
                "WHERE r.discount_amount > 0"
            ],
            "metadata": {
                "language": "sql",
                "azdata_cell_guid": "feee693d-fa79-4eb0-be20-add6f4f4ca18"
            },
            "outputs": [],
            "execution_count": null
        },
        {
            "cell_type": "markdown",
            "source": [
                "The first query returns information about rentals where the invoice amount is greater than $400, while the second query returns the same information for rentals where there was a discount amount greater than $0. We are going to use each of our set operators with these two queries and evaluate the results.\n",
                "\n",
                "  \n",
                "\n",
                "Starting with a UNION, this will put all of the records from both statements together _with no duplicates:_"
            ],
            "metadata": {
                "azdata_cell_guid": "8b0e407e-12f0-41f9-a704-a77e3baa2b6a"
            },
            "attachments": {}
        },
        {
            "cell_type": "code",
            "source": [
                "--SELECT statement #1\n",
                "SELECT c.first_name, c.last_name, c.phone_number, u.unit_number, f.city\n",
                "FROM su_customer as c\n",
                "JOIN su_rental as r ON c.customer_id = r.customer_id\n",
                "JOIN su_unit as u ON r.unit_id = u.unit_id\n",
                "JOIN su_facility as f ON u.facility_id = f.facility_id\n",
                "JOIN su_invoice as i ON r.rental_id = i.rental_id\n",
                "WHERE i.amount > 400\n",
                "\n",
                "UNION\n",
                "\n",
                "--SELECT statement #2\n",
                "SELECT c.first_name, c.last_name, c.phone_number, u.unit_number, f.city\n",
                "FROM su_customer as c\n",
                "JOIN su_rental as r ON c.customer_id = r.customer_id\n",
                "JOIN su_unit as u ON r.unit_id = u.unit_id\n",
                "JOIN su_facility as f ON u.facility_id = f.facility_id\n",
                "WHERE r.discount_amount > 0"
            ],
            "metadata": {
                "azdata_cell_guid": "e4507a47-e7b3-4797-b490-244853eeb408",
                "language": "sql"
            },
            "outputs": [],
            "execution_count": null
        },
        {
            "cell_type": "markdown",
            "source": [
                "The above return has some duplicate customers, but only because they have different storage units. Each individual row is indeed unique. If we use UNION ALL, then we will see true duplicates in the return:"
            ],
            "metadata": {
                "language": "sql",
                "azdata_cell_guid": "19cf0091-f080-4061-b47b-1ea29b367568"
            },
            "attachments": {}
        },
        {
            "cell_type": "code",
            "source": [
                "--SELECT statement #1\n",
                "SELECT c.first_name, c.last_name, c.phone_number, u.unit_number, f.city\n",
                "FROM su_customer as c\n",
                "JOIN su_rental as r ON c.customer_id = r.customer_id\n",
                "JOIN su_unit as u ON r.unit_id = u.unit_id\n",
                "JOIN su_facility as f ON u.facility_id = f.facility_id\n",
                "JOIN su_invoice as i ON r.rental_id = i.rental_id\n",
                "WHERE i.amount > 400\n",
                "\n",
                "UNION ALL\n",
                "\n",
                "--SELECT statement #2\n",
                "SELECT c.first_name, c.last_name, c.phone_number, u.unit_number, f.city\n",
                "FROM su_customer as c\n",
                "JOIN su_rental as r ON c.customer_id = r.customer_id\n",
                "JOIN su_unit as u ON r.unit_id = u.unit_id\n",
                "JOIN su_facility as f ON u.facility_id = f.facility_id\n",
                "WHERE r.discount_amount > 0"
            ],
            "metadata": {
                "language": "sql",
                "azdata_cell_guid": "931101b8-8f94-40be-9826-5b3c431af402"
            },
            "outputs": [],
            "execution_count": null
        },
        {
            "cell_type": "markdown",
            "source": [
                "This return is a bit messy, so we can sort it by putting it in a subquery:"
            ],
            "metadata": {
                "language": "sql",
                "azdata_cell_guid": "57875a52-6c1c-4b49-9495-a186256b29e4"
            },
            "attachments": {}
        },
        {
            "cell_type": "code",
            "source": [
                "SELECT *\n",
                "FROM (\n",
                "    --SELECT statement #1\n",
                "    SELECT c.first_name, c.last_name, c.phone_number, u.unit_number, f.city\n",
                "    FROM su_customer as c\n",
                "    JOIN su_rental as r ON c.customer_id = r.customer_id\n",
                "    JOIN su_unit as u ON r.unit_id = u.unit_id\n",
                "    JOIN su_facility as f ON u.facility_id = f.facility_id\n",
                "    JOIN su_invoice as i ON r.rental_id = i.rental_id\n",
                "    WHERE i.amount > 400\n",
                "\n",
                "    UNION ALL\n",
                "\n",
                "    --SELECT statement #2\n",
                "    SELECT c.first_name, c.last_name, c.phone_number, u.unit_number, f.city\n",
                "    FROM su_customer as c\n",
                "    JOIN su_rental as r ON c.customer_id = r.customer_id\n",
                "    JOIN su_unit as u ON r.unit_id = u.unit_id\n",
                "    JOIN su_facility as f ON u.facility_id = f.facility_id\n",
                "    WHERE r.discount_amount > 0\n",
                ") as sub\n",
                "ORDER BY sub.last_name, sub.first_name, sub.unit_number"
            ],
            "metadata": {
                "language": "sql",
                "azdata_cell_guid": "126d072e-9128-4aca-b9d7-ca3330730a5c"
            },
            "outputs": [],
            "execution_count": null
        },
        {
            "cell_type": "markdown",
            "source": [
                "Now it is much easier to see duplicates and organize the data. While this is unnecessary, it is a good reminder that pretty much any SELECT statement can be used as a subqery.\n",
                "\n",
                "  \n",
                "\n",
                "Next we will use INTERSECT to see which records appear in both queries:"
            ],
            "metadata": {
                "language": "sql",
                "azdata_cell_guid": "e9ec67d7-c241-4741-9a01-9d3a529a29e4"
            },
            "attachments": {}
        },
        {
            "cell_type": "code",
            "source": [
                "--SELECT statement #1\n",
                "SELECT c.first_name, c.last_name, c.phone_number, u.unit_number, f.city\n",
                "FROM su_customer as c\n",
                "JOIN su_rental as r ON c.customer_id = r.customer_id\n",
                "JOIN su_unit as u ON r.unit_id = u.unit_id\n",
                "JOIN su_facility as f ON u.facility_id = f.facility_id\n",
                "JOIN su_invoice as i ON r.rental_id = i.rental_id\n",
                "WHERE i.amount > 400\n",
                "\n",
                "INTERSECT\n",
                "\n",
                "--SELECT statement #2\n",
                "SELECT c.first_name, c.last_name, c.phone_number, u.unit_number, f.city\n",
                "FROM su_customer as c\n",
                "JOIN su_rental as r ON c.customer_id = r.customer_id\n",
                "JOIN su_unit as u ON r.unit_id = u.unit_id\n",
                "JOIN su_facility as f ON u.facility_id = f.facility_id\n",
                "WHERE r.discount_amount > 0"
            ],
            "metadata": {
                "language": "sql",
                "azdata_cell_guid": "c4695880-ed67-45c0-b8de-15b3cb6b2bdd"
            },
            "outputs": [],
            "execution_count": null
        },
        {
            "cell_type": "markdown",
            "source": [
                "Finally, we can use EXCEPT to see which query result is in the first query, and not in the second query."
            ],
            "metadata": {
                "language": "sql",
                "azdata_cell_guid": "beb21cd9-a7b4-43a0-bca7-79cd53d7ea84"
            },
            "attachments": {}
        },
        {
            "cell_type": "code",
            "source": [
                "--SELECT statement #1\n",
                "SELECT c.first_name, c.last_name, c.phone_number, u.unit_number, f.city\n",
                "FROM su_customer as c\n",
                "JOIN su_rental as r ON c.customer_id = r.customer_id\n",
                "JOIN su_unit as u ON r.unit_id = u.unit_id\n",
                "JOIN su_facility as f ON u.facility_id = f.facility_id\n",
                "JOIN su_invoice as i ON r.rental_id = i.rental_id\n",
                "WHERE i.amount > 400\n",
                "\n",
                "EXCEPT\n",
                "\n",
                "--SELECT statement #2\n",
                "SELECT c.first_name, c.last_name, c.phone_number, u.unit_number, f.city\n",
                "FROM su_customer as c\n",
                "JOIN su_rental as r ON c.customer_id = r.customer_id\n",
                "JOIN su_unit as u ON r.unit_id = u.unit_id\n",
                "JOIN su_facility as f ON u.facility_id = f.facility_id\n",
                "WHERE r.discount_amount > 0"
            ],
            "metadata": {
                "language": "sql",
                "azdata_cell_guid": "9f53ecdf-2639-4070-8810-e435b0208b8b"
            },
            "outputs": [],
            "execution_count": null
        },
        {
            "cell_type": "markdown",
            "source": [
                "If we were to change the order of the queries, then we could see which values are in the second query that are not in the first. Set operators are another tool that we can use to make our sql script more powerful.\n",
                "\n",
                "## **Window Functions**\n",
                "\n",
                "Finally, window functions allow us to aggregate data without grouping rows together. This way we can keep all the individual data about a record, but still display aggregate information. To use window functions, we will need the following keywords:\n",
                "\n",
                "- OVER- Defines the set of rows for the window function to operate on.\n",
                "- PARTITION BY- Optional, divides the result set into partitions to which the window function is applied.\n",
                "\n",
                "Below is a simple window function that shows a running total of the total\\_amount across all rows of the ho\\_reservation table, but first we will add a few more records."
            ],
            "metadata": {
                "azdata_cell_guid": "9feb3207-1e92-463f-9008-6a4b172c2600"
            },
            "attachments": {}
        },
        {
            "cell_type": "code",
            "source": [
                "INSERT INTO ho_reservation VALUES\n",
                "    (3, 3, '2024-07-03', '2024-07-07', 480.00),\n",
                "    (4, 4, '2024-07-04', '2024-07-08', 480.00),\n",
                "    (5, 5, '2024-07-05', '2024-07-10', 1000.00);"
            ],
            "metadata": {
                "azdata_cell_guid": "cc3d63dc-2015-46b7-85e2-03bf97d91d45",
                "language": "sql"
            },
            "outputs": [],
            "execution_count": null
        },
        {
            "cell_type": "code",
            "source": [
                "SELECT \n",
                "    reservation_id,\n",
                "    guest_id,\n",
                "    room_id,\n",
                "    check_in_date,\n",
                "    total_amount,\n",
                "    --Below is the window function\n",
                "    --We include the ORDER BY clause below to ensure that the cumulative_total is updated at each individual reservation_id. It isn't necessarily because we want to order the data.\n",
                "    SUM(total_amount) OVER (ORDER BY reservation_id) AS cumulative_total\n",
                "FROM \n",
                "    ho_reservation;"
            ],
            "metadata": {
                "azdata_cell_guid": "a3a625ec-eed9-4a6f-b8aa-bc8d73e6edac",
                "language": "sql"
            },
            "outputs": [],
            "execution_count": null
        },
        {
            "cell_type": "markdown",
            "source": [
                "We can see in the above cell that the window function we implemented is keeping a running total of the total\\_amount for each row. The basic structure of a window function will remain consistent, it is always:\n",
                "\n",
                "AGGREGATE(column) OVER (ORDER BY/PARTITION BY statement) AS new\\_column\\_name.\n",
                "\n",
                "Next we will partition our data. This is like implementing a GROUP BY clause into our window function. We will use the Storage Unit system for this query."
            ],
            "metadata": {
                "language": "sql",
                "azdata_cell_guid": "47779b29-2dd8-4229-a1d6-b641d56a1508"
            },
            "attachments": {}
        },
        {
            "cell_type": "code",
            "source": [
                "SELECT u.unit_number, t.length, t.width, t.height, i.amount,\n",
                "AVG(i.amount) OVER (PARTITION BY t.width ORDER BY t.width) as average_for_width --The average_for_width field will help us compare the amount that we charged per a rental against the average charge for all rentals of that same width. This can help us see if we are under or over charging.\n",
                "FROM su_type t\n",
                "JOIN su_unit u ON t.type_id = u.unit_id\n",
                "JOIN su_rental r ON u.unit_id = r.unit_id\n",
                "JOIN su_invoice i ON r.rental_id = i.rental_id"
            ],
            "metadata": {
                "language": "sql",
                "azdata_cell_guid": "d783d67f-137c-44e9-a00a-2d46e2686f95"
            },
            "outputs": [],
            "execution_count": null
        },
        {
            "cell_type": "markdown",
            "source": [
                "The above query partitions the data by width so that the AVE(i.amount) is grouped by width. This means that all records with the same width, will have the same value for our newly calculated column. Window functions can seem tricky, but since they are just part of SELECT statements you can adjust your syntax as many times as needed without having to worry about making unintended changes to your database.\n",
                "\n",
                "## **Exercises / Scenario**\n",
                "\n",
                "For this scenario you have been tasked with standing up a small database system to help a college manage it's enrollment. The college has provided an ERD that you should use to design your tables, you can find it under _College ERD_ in github. Your tasks are as follows:\n",
                "\n",
                "- Use the provided ERD to guide table creation\n",
                "- Insert data into each of the tables\n",
                "- Add indexes where appropriate\n",
                "- Create queries with set operators\n",
                "- Create queries with window functions\n",
                "\n",
                "<span style=\"font-family: -apple-system, BlinkMacSystemFont, sans-serif; color: var(--vscode-foreground);\">1. In the below cell, write a query that contains the CREATE statements necessary for instantiating the required tables:</span>"
            ],
            "metadata": {
                "azdata_cell_guid": "c896929d-377d-41c4-8338-f6ed19ffd42e"
            },
            "attachments": {}
        },
        {
            "cell_type": "code",
            "source": [
                "CREATE TABLE co_major (\r\n",
                "    major_id INT IDENTITY(1,1) PRIMARY KEY,\r\n",
                "    major_name VARCHAR(100) NOT NULL\r\n",
                ");\r\n",
                "\r\n",
                "CREATE TABLE co_instructor (\r\n",
                "    instructor_id INT IDENTITY(1,1) PRIMARY KEY,\r\n",
                "    first_name VARCHAR(50) NOT NULL,\r\n",
                "    last_name VARCHAR(50) NOT NULL,\r\n",
                "    email VARCHAR(100) UNIQUE NOT NULL\r\n",
                ");\r\n",
                "\r\n",
                "CREATE TABLE co_student (\r\n",
                "    student_id INT IDENTITY(1,1) PRIMARY KEY,\r\n",
                "    first_name VARCHAR(50) NOT NULL,\r\n",
                "    last_name VARCHAR(50) NOT NULL,\r\n",
                "    phone_number VARCHAR(15) NOT NULL,\r\n",
                "    major_id INT,\r\n",
                "    FOREIGN KEY (major_id) REFERENCES co_major(major_id)\r\n",
                ");\r\n",
                "\r\n",
                "CREATE TABLE co_course (\r\n",
                "    course_id INT IDENTITY(1,1) PRIMARY KEY,\r\n",
                "    subject VARCHAR(10) NOT NULL,\r\n",
                "    course_number VARCHAR(10) NOT NULL,\r\n",
                "    course_title VARCHAR(100) NOT NULL,\r\n",
                "    credits INT NOT NULL,\r\n",
                "    instructor_id INT,\r\n",
                "    FOREIGN KEY (instructor_id) REFERENCES co_instructor(instructor_id)\r\n",
                ");\r\n",
                "\r\n",
                "CREATE TABLE co_registration (\r\n",
                "    student_id INT,\r\n",
                "    course_id INT,\r\n",
                "    registration_date DATE NOT NULL,\r\n",
                "    grade CHAR(1),\r\n",
                "    PRIMARY KEY (student_id, course_id),\r\n",
                "    FOREIGN KEY (student_id) REFERENCES co_student(student_id),\r\n",
                "    FOREIGN KEY (course_id) REFERENCES co_course(course_id)\r\n",
                ");\r\n",
                ""
            ],
            "metadata": {
                "azdata_cell_guid": "6b37ab5e-ddcc-48e1-bf80-65872205f120",
                "language": "sql"
            },
            "outputs": [
                {
                    "output_type": "display_data",
                    "data": {
                        "text/html": "Commands completed successfully."
                    },
                    "metadata": {}
                },
                {
                    "output_type": "display_data",
                    "data": {
                        "text/html": "Total execution time: 00:00:00.142"
                    },
                    "metadata": {}
                }
            ],
            "execution_count": 6
        },
        {
            "cell_type": "markdown",
            "source": [
                "2\\. In the below cell, write a query to insert data into each of the tables. The data values that need inserted have been provided. You only need to construct the INSERT statements and transaction language needed to complete the operation. (Cell is condensed, you will need to expand.)"
            ],
            "metadata": {
                "language": "sql",
                "azdata_cell_guid": "42724bf7-8ac5-446c-9d63-6aa2c29bc23d"
            },
            "attachments": {}
        },
        {
            "cell_type": "code",
            "source": [
                "--Your code here\r\n",
                "BEGIN TRANSACTION;\r\n",
                "\r\n",
                "--Insert data into co_major\r\n",
                "INSERT INTO co_major (major_name)\r\n",
                "VALUES\r\n",
                "    ('Computer Science'),\r\n",
                "    ('Mathematics'),\r\n",
                "    ('Physics'),\r\n",
                "    ('Chemistry'),\r\n",
                "    ('Biology'),\r\n",
                "    ('English Literature'),\r\n",
                "    ('History'),\r\n",
                "    ('Economics');\r\n",
                "\r\n",
                "--Insert data into co_student\r\n",
                "INSERT INTO co_student (first_name, last_name, phone_number, major_id)\r\n",
                "VALUES\r\n",
                "    ('John', 'Doe', '1234567890', 1),\r\n",
                "    ('Jane', 'Smith', '1234567891', 2),\r\n",
                "    ('Alice', 'Johnson', '1234567892', 3),\r\n",
                "    ('Bob', 'Williams', '1234567893', 4),\r\n",
                "    ('Charlie', 'Brown', '1234567894', 5),\r\n",
                "    ('David', 'Jones', '1234567895', 6),\r\n",
                "    ('Eve', 'Garcia', '1234567896', 7),\r\n",
                "    ('Frank', 'Miller', '1234567897', 8),\r\n",
                "    ('Grace', 'Davis', '1234567898', 1),\r\n",
                "    ('Hank', 'Martinez', '1234567899', 2),\r\n",
                "    ('Ivy', 'Hernandez', '1234567890', 3),\r\n",
                "    ('Jack', 'Lopez', '1234567891', 4),\r\n",
                "    ('Karen', 'Gonzalez', '1234567892', 5),\r\n",
                "    ('Leo', 'Wilson', '1234567893', 6),\r\n",
                "    ('Mia', 'Anderson', '1234567894', 7),\r\n",
                "    ('Nina', 'Thomas', '1234567895', 8),\r\n",
                "    ('Oscar', 'Taylor', '1234567896', 1),\r\n",
                "    ('Paul', 'Moore', '1234567897', 2),\r\n",
                "    ('Quinn', 'Jackson', '1234567898', 3),\r\n",
                "    ('Rick', 'Martin', '1234567899', 4),\r\n",
                "    ('Sara', 'Lee', '1234567890', 5),\r\n",
                "    ('Tom', 'Perez', '1234567891', 6),\r\n",
                "    ('Uma', 'White', '1234567892', 7),\r\n",
                "    ('Vince', 'Harris', '1234567893', 8),\r\n",
                "    ('Wendy', 'Clark', '1234567894', 1),\r\n",
                "    ('Xander', 'Lewis', '1234567895', 2),\r\n",
                "    ('Yara', 'Robinson', '1234567896', 3),\r\n",
                "    ('Zane', 'Walker', '1234567897', 4),\r\n",
                "    ('Amy', 'Young', '1234567898', 5),\r\n",
                "    ('Brian', 'King', '1234567899', 6),\r\n",
                "    ('Chloe', 'Scott', '1234567890', 7),\r\n",
                "    ('Dan', 'Green', '1234567891', 8),\r\n",
                "    ('Ella', 'Adams', '1234567892', 1),\r\n",
                "    ('Finn', 'Baker', '1234567893', 2),\r\n",
                "    ('Gina', 'Carter', '1234567894', 3),\r\n",
                "    ('Hugo', 'Evans', '1234567895', 4),\r\n",
                "    ('Iris', 'Collins', '1234567896', 5),\r\n",
                "    ('Jake', 'Wright', '1234567897', 6),\r\n",
                "    ('Kara', 'Mitchell', '1234567898', 7),\r\n",
                "    ('Liam', 'Perez', '1234567899', 8);\r\n",
                "\r\n",
                "--Insert data into co_instructor\r\n",
                "INSERT INTO co_instructor (first_name, last_name, email)\r\n",
                "VALUES\r\n",
                "    ('Ava', 'Allen', 'ava.allen@example.com'),\r\n",
                "    ('Ben', 'Bennett', 'ben.bennett@example.com'),\r\n",
                "    ('Clara', 'Clark', 'clara.clark@example.com'),\r\n",
                "    ('Dylan', 'Davis', 'dylan.davis@example.com'),\r\n",
                "    ('Ella', 'Edwards', 'ella.edwards@example.com'),\r\n",
                "    ('Felix', 'Foster', 'felix.foster@example.com'),\r\n",
                "    ('Gina', 'Gray', 'gina.gray@example.com'),\r\n",
                "    ('Henry', 'Harris', 'henry.harris@example.com'),\r\n",
                "    ('Isla', 'Irwin', 'isla.irwin@example.com'),\r\n",
                "    ('Jack', 'Jones', 'jack.jones@example.com'),\r\n",
                "    ('Luna', 'Lewis', 'luna.lewis@example.com'),\r\n",
                "    ('Mason', 'Miller', 'mason.miller@example.com'),\r\n",
                "    ('Nina', 'Nelson', 'nina.nelson@example.com'),\r\n",
                "    ('Oscar', 'Owens', 'oscar.owens@example.com');\r\n",
                "\r\n",
                "--Insert data into co_course\r\n",
                "INSERT INTO co_course (subject, course_number, course_title, credits, instructor_id)\r\n",
                "VALUES\r\n",
                "    ('MATH', '101', 'Calculus I', 500, 1),\r\n",
                "    ('MATH', '102', 'Calculus II', 600, 2),\r\n",
                "    ('MATH', '201', 'Linear Algebra', 575, 3),\r\n",
                "    ('ENGL', '101', 'English Composition', 400, 4),\r\n",
                "    ('ENGL', '201', 'American Literature', 500, 5),\r\n",
                "    ('SCI', '101', 'General Biology', 600, 6),\r\n",
                "    ('SCI', '102', 'General Chemistry', 670, 7),\r\n",
                "    ('SCI', '201', 'Physics I', 900, 8),\r\n",
                "    ('CIS', '101', 'Intro to Programming', 300, 9),\r\n",
                "    ('CIS', '102', 'Data Structures', 700, 10),\r\n",
                "    ('CIS', '201', 'Databases', 450, 11),\r\n",
                "    ('HIST', '101', 'World History', 450, 12),\r\n",
                "    ('HIST', '201', 'American History', 590, 13),\r\n",
                "    ('MATH', '103', 'Statistics', 375, 14),\r\n",
                "    ('ENGL', '202', 'British Literature', 460, 1),\r\n",
                "    ('SCI', '202', 'Physics II', 720, 2),\r\n",
                "    ('CIS', '202', 'Operating Systems', 690, 3),\r\n",
                "    ('HIST', '202', 'European History', 455, 4),\r\n",
                "    ('MATH', '202', 'Differential Equations', 525, 5),\r\n",
                "    ('ENGL', '203', 'Creative Writing', 415, 6),\r\n",
                "    ('SCI', '203', 'Organic Chemistry', 600, 7),\r\n",
                "    ('CIS', '203', 'Network Security', 680, 8),\r\n",
                "    ('HIST', '203', 'Modern History', 375, 9),\r\n",
                "    ('MATH', '301', 'Abstract Algebra', 500, 10),\r\n",
                "    ('CIS', '301', 'Machine Learning', 700, 11);\r\n",
                "\r\n",
                "--Insert data into co_registration\r\n",
                "INSERT INTO co_registration (student_id, course_id, registration_date, grade)\r\n",
                "VALUES\r\n",
                "    (1, 1, '2024-01-10', 'A'),\r\n",
                "    (1, 2, '2024-01-10', 'B'),\r\n",
                "    (2, 1, '2024-01-10', 'A'),\r\n",
                "    (2, 3, '2024-01-10', 'B'),\r\n",
                "    (3, 2, '2024-01-10', 'A'),\r\n",
                "    (3, 4, '2024-01-10', 'C'),\r\n",
                "    (4, 3, '2024-01-10', 'B'),\r\n",
                "    (4, 5, '2024-01-10', 'A'),\r\n",
                "    (5, 4, '2024-01-10', 'A'),\r\n",
                "    (5, 6, '2024-01-10', 'C'),\r\n",
                "    (6, 5, '2024-01-10', 'B'),\r\n",
                "    (6, 7, '2024-01-10', 'A'),\r\n",
                "    (7, 6, '2024-01-10', 'A'),\r\n",
                "    (7, 8, '2024-01-10', 'B'),\r\n",
                "    (8, 7, '2024-01-10', 'C'),\r\n",
                "    (8, 9, '2024-01-10', 'B'),\r\n",
                "    (9, 8, '2024-01-10', 'A'),\r\n",
                "    (9, 10, '2024-01-10', 'A'),\r\n",
                "    (10, 9, '2024-01-10', 'B'),\r\n",
                "    (10, 11, '2024-01-10', 'C'),\r\n",
                "    (11, 10, '2024-01-10', 'A'),\r\n",
                "    (11, 12, '2024-01-10', 'B'),\r\n",
                "    (12, 11, '2024-01-10', 'C'),\r\n",
                "    (12, 13, '2024-01-10', 'A'),\r\n",
                "    (13, 12, '2024-01-10', 'B'),\r\n",
                "    (13, 14, '2024-01-10', 'A'),\r\n",
                "    (14, 13, '2024-01-10', 'A'),\r\n",
                "    (14, 15, '2024-01-10', 'B'),\r\n",
                "    (15, 14, '2024-01-10', 'C'),\r\n",
                "    (15, 16, '2024-01-10', 'A'),\r\n",
                "    (16, 15, '2024-01-10', 'B'),\r\n",
                "    (16, 17, '2024-01-10', 'A'),\r\n",
                "    (17, 16, '2024-01-10', 'A'),\r\n",
                "    (17, 18, '2024-01-10', 'B'),\r\n",
                "    (18, 17, '2024-01-10', 'C'),\r\n",
                "    (18, 19, '2024-01-10', 'B'),\r\n",
                "    (19, 18, '2024-01-10', 'A'),\r\n",
                "    (19, 20, '2024-01-10', 'A'),\r\n",
                "    (20, 19, '2024-01-10', 'B');\r\n",
                "\r\n",
                "COMMIT;\r\n",
                "\r\n",
                ""
            ],
            "metadata": {
                "language": "sql",
                "azdata_cell_guid": "10a84314-782b-46ad-8f07-ad4c6e2ac951",
                "tags": []
            },
            "outputs": [
                {
                    "output_type": "display_data",
                    "data": {
                        "text/html": "(8 rows affected)"
                    },
                    "metadata": {}
                },
                {
                    "output_type": "display_data",
                    "data": {
                        "text/html": "(40 rows affected)"
                    },
                    "metadata": {}
                },
                {
                    "output_type": "display_data",
                    "data": {
                        "text/html": "(14 rows affected)"
                    },
                    "metadata": {}
                },
                {
                    "output_type": "display_data",
                    "data": {
                        "text/html": "(25 rows affected)"
                    },
                    "metadata": {}
                },
                {
                    "output_type": "display_data",
                    "data": {
                        "text/html": "(39 rows affected)"
                    },
                    "metadata": {}
                },
                {
                    "output_type": "display_data",
                    "data": {
                        "text/html": "Total execution time: 00:00:01.975"
                    },
                    "metadata": {}
                }
            ],
            "execution_count": 7
        },
        {
            "cell_type": "markdown",
            "source": [
                "3\\. In the below cell, write a script to add the following unclustered indexes:\n",
                "\n",
                "- co\\_student.stu\\_last\\_name\n",
                "- co\\_course.subject\n",
                "- co\\_instructor.ins\\_last\\_name"
            ],
            "metadata": {
                "language": "sql",
                "azdata_cell_guid": "11dc2166-16a9-4592-b90e-5d8ccc294561"
            },
            "attachments": {}
        },
        {
            "cell_type": "code",
            "source": [
                "--Your code here\r\n",
                "CREATE INDEX idx_student_major ON co_student (major_id);\r\n",
                "CREATE INDEX idx_course_instructor ON co_course (instructor_id);\r\n",
                "CREATE INDEX idx_registration_date ON co_registration (registration_date);\r\n",
                "\r\n",
                ""
            ],
            "metadata": {
                "language": "sql",
                "azdata_cell_guid": "7fcba82e-e924-44fc-a063-329eeeb17cc3"
            },
            "outputs": [
                {
                    "output_type": "display_data",
                    "data": {
                        "text/html": "Commands completed successfully."
                    },
                    "metadata": {}
                },
                {
                    "output_type": "display_data",
                    "data": {
                        "text/html": "Total execution time: 00:00:00.133"
                    },
                    "metadata": {}
                }
            ],
            "execution_count": 8
        },
        {
            "cell_type": "markdown",
            "source": [
                "4A. In the below cell, write a query to select all of the students taking MATH (subject) courses. Include their full name, phone number, and major:"
            ],
            "metadata": {
                "language": "sql",
                "azdata_cell_guid": "54b12683-8cf1-4f8e-b13c-0f0d6fe923ad"
            },
            "attachments": {}
        },
        {
            "cell_type": "code",
            "source": [
                "--Your code here\r\n",
                "SELECT \r\n",
                "    s.first_name, \r\n",
                "    s.last_name, \r\n",
                "    s.phone_number, \r\n",
                "    m.major_name\r\n",
                "FROM co_student s\r\n",
                "JOIN co_registration r ON s.student_id = r.student_id\r\n",
                "JOIN co_course c ON r.course_id = c.course_id\r\n",
                "JOIN co_major m ON s.major_id = m.major_id\r\n",
                "WHERE c.subject = 'MATH';\r\n",
                "\r\n",
                ""
            ],
            "metadata": {
                "language": "sql",
                "azdata_cell_guid": "60181ffe-0b00-4026-a94e-42f00305dd1f"
            },
            "outputs": [
                {
                    "output_type": "display_data",
                    "data": {
                        "text/html": "(10 rows affected)"
                    },
                    "metadata": {}
                },
                {
                    "output_type": "display_data",
                    "data": {
                        "text/html": "Total execution time: 00:00:00.134"
                    },
                    "metadata": {}
                },
                {
                    "output_type": "execute_result",
                    "metadata": {},
                    "execution_count": 9,
                    "data": {
                        "application/vnd.dataresource+json": {
                            "schema": {
                                "fields": [
                                    {
                                        "name": "first_name"
                                    },
                                    {
                                        "name": "last_name"
                                    },
                                    {
                                        "name": "phone_number"
                                    },
                                    {
                                        "name": "major_name"
                                    }
                                ]
                            },
                            "data": [
                                {
                                    "first_name": "John",
                                    "last_name": "Doe",
                                    "phone_number": "1234567890",
                                    "major_name": "Computer Science"
                                },
                                {
                                    "first_name": "John",
                                    "last_name": "Doe",
                                    "phone_number": "1234567890",
                                    "major_name": "Computer Science"
                                },
                                {
                                    "first_name": "Jane",
                                    "last_name": "Smith",
                                    "phone_number": "1234567891",
                                    "major_name": "Mathematics"
                                },
                                {
                                    "first_name": "Jane",
                                    "last_name": "Smith",
                                    "phone_number": "1234567891",
                                    "major_name": "Mathematics"
                                },
                                {
                                    "first_name": "Alice",
                                    "last_name": "Johnson",
                                    "phone_number": "1234567892",
                                    "major_name": "Physics"
                                },
                                {
                                    "first_name": "Bob",
                                    "last_name": "Williams",
                                    "phone_number": "1234567893",
                                    "major_name": "Chemistry"
                                },
                                {
                                    "first_name": "Karen",
                                    "last_name": "Gonzalez",
                                    "phone_number": "1234567892",
                                    "major_name": "Biology"
                                },
                                {
                                    "first_name": "Mia",
                                    "last_name": "Anderson",
                                    "phone_number": "1234567894",
                                    "major_name": "History"
                                },
                                {
                                    "first_name": "Paul",
                                    "last_name": "Moore",
                                    "phone_number": "1234567897",
                                    "major_name": "Mathematics"
                                },
                                {
                                    "first_name": "Rick",
                                    "last_name": "Martin",
                                    "phone_number": "1234567899",
                                    "major_name": "Chemistry"
                                }
                            ]
                        },
                        "text/html": [
                            "<table>",
                            "<tr><th>first_name</th><th>last_name</th><th>phone_number</th><th>major_name</th></tr>",
                            "<tr><td>John</td><td>Doe</td><td>1234567890</td><td>Computer Science</td></tr>",
                            "<tr><td>John</td><td>Doe</td><td>1234567890</td><td>Computer Science</td></tr>",
                            "<tr><td>Jane</td><td>Smith</td><td>1234567891</td><td>Mathematics</td></tr>",
                            "<tr><td>Jane</td><td>Smith</td><td>1234567891</td><td>Mathematics</td></tr>",
                            "<tr><td>Alice</td><td>Johnson</td><td>1234567892</td><td>Physics</td></tr>",
                            "<tr><td>Bob</td><td>Williams</td><td>1234567893</td><td>Chemistry</td></tr>",
                            "<tr><td>Karen</td><td>Gonzalez</td><td>1234567892</td><td>Biology</td></tr>",
                            "<tr><td>Mia</td><td>Anderson</td><td>1234567894</td><td>History</td></tr>",
                            "<tr><td>Paul</td><td>Moore</td><td>1234567897</td><td>Mathematics</td></tr>",
                            "<tr><td>Rick</td><td>Martin</td><td>1234567899</td><td>Chemistry</td></tr>",
                            "</table>"
                        ]
                    }
                }
            ],
            "execution_count": 9
        },
        {
            "cell_type": "markdown",
            "source": [
                "4B. In the below cell, write a query to select all of the students taking ENGL (subject) courses. <span style=\"font-family: -apple-system, BlinkMacSystemFont, sans-serif; color: var(--vscode-foreground);\">Include their full name, phone number, and major</span><span style=\"font-family: -apple-system, BlinkMacSystemFont, sans-serif; color: var(--vscode-foreground);\">:</span>"
            ],
            "metadata": {
                "language": "sql",
                "azdata_cell_guid": "c92f19c5-b5d2-45f0-bd95-ee8dd39d5337"
            },
            "attachments": {}
        },
        {
            "cell_type": "code",
            "source": [
                "--Your code here\r\n",
                "SELECT \r\n",
                "    s.first_name, \r\n",
                "    s.last_name, \r\n",
                "    s.phone_number, \r\n",
                "    m.major_name\r\n",
                "FROM co_student s\r\n",
                "JOIN co_registration r ON s.student_id = r.student_id\r\n",
                "JOIN co_course c ON r.course_id = c.course_id\r\n",
                "JOIN co_major m ON s.major_id = m.major_id\r\n",
                "WHERE c.subject = 'ENGL';"
            ],
            "metadata": {
                "language": "sql",
                "azdata_cell_guid": "ce4a7416-561f-4fc1-ab33-5743d4db0619"
            },
            "outputs": [
                {
                    "output_type": "display_data",
                    "data": {
                        "text/html": "(7 rows affected)"
                    },
                    "metadata": {}
                },
                {
                    "output_type": "display_data",
                    "data": {
                        "text/html": "Total execution time: 00:00:00.120"
                    },
                    "metadata": {}
                },
                {
                    "output_type": "execute_result",
                    "metadata": {},
                    "execution_count": 10,
                    "data": {
                        "application/vnd.dataresource+json": {
                            "schema": {
                                "fields": [
                                    {
                                        "name": "first_name"
                                    },
                                    {
                                        "name": "last_name"
                                    },
                                    {
                                        "name": "phone_number"
                                    },
                                    {
                                        "name": "major_name"
                                    }
                                ]
                            },
                            "data": [
                                {
                                    "first_name": "Alice",
                                    "last_name": "Johnson",
                                    "phone_number": "1234567892",
                                    "major_name": "Physics"
                                },
                                {
                                    "first_name": "Bob",
                                    "last_name": "Williams",
                                    "phone_number": "1234567893",
                                    "major_name": "Chemistry"
                                },
                                {
                                    "first_name": "Charlie",
                                    "last_name": "Brown",
                                    "phone_number": "1234567894",
                                    "major_name": "Biology"
                                },
                                {
                                    "first_name": "David",
                                    "last_name": "Jones",
                                    "phone_number": "1234567895",
                                    "major_name": "English Literature"
                                },
                                {
                                    "first_name": "Leo",
                                    "last_name": "Wilson",
                                    "phone_number": "1234567893",
                                    "major_name": "English Literature"
                                },
                                {
                                    "first_name": "Nina",
                                    "last_name": "Thomas",
                                    "phone_number": "1234567895",
                                    "major_name": "Economics"
                                },
                                {
                                    "first_name": "Quinn",
                                    "last_name": "Jackson",
                                    "phone_number": "1234567898",
                                    "major_name": "Physics"
                                }
                            ]
                        },
                        "text/html": [
                            "<table>",
                            "<tr><th>first_name</th><th>last_name</th><th>phone_number</th><th>major_name</th></tr>",
                            "<tr><td>Alice</td><td>Johnson</td><td>1234567892</td><td>Physics</td></tr>",
                            "<tr><td>Bob</td><td>Williams</td><td>1234567893</td><td>Chemistry</td></tr>",
                            "<tr><td>Charlie</td><td>Brown</td><td>1234567894</td><td>Biology</td></tr>",
                            "<tr><td>David</td><td>Jones</td><td>1234567895</td><td>English Literature</td></tr>",
                            "<tr><td>Leo</td><td>Wilson</td><td>1234567893</td><td>English Literature</td></tr>",
                            "<tr><td>Nina</td><td>Thomas</td><td>1234567895</td><td>Economics</td></tr>",
                            "<tr><td>Quinn</td><td>Jackson</td><td>1234567898</td><td>Physics</td></tr>",
                            "</table>"
                        ]
                    }
                }
            ],
            "execution_count": 10
        },
        {
            "cell_type": "markdown",
            "source": [
                "4C. In the below cell, use a set operator to select all student who are taking a math class, that are not taking an english class. Order the return alphabetically by last name then first name:"
            ],
            "metadata": {
                "language": "sql",
                "azdata_cell_guid": "5db69a08-604d-42ae-a2cd-e91867b9d560"
            },
            "attachments": {}
        },
        {
            "cell_type": "code",
            "source": [
                "--Your code here\r\n",
                "SELECT \r\n",
                "    s.first_name, \r\n",
                "    s.last_name\r\n",
                "FROM co_student s\r\n",
                "JOIN co_registration r ON s.student_id = r.student_id\r\n",
                "JOIN co_course c ON r.course_id = c.course_id\r\n",
                "WHERE c.subject = 'MATH'\r\n",
                "AND s.student_id NOT IN (\r\n",
                "    SELECT s2.student_id\r\n",
                "    FROM co_student s2\r\n",
                "    JOIN co_registration r2 ON s2.student_id = r2.student_id\r\n",
                "    JOIN co_course c2 ON r2.course_id = c2.course_id\r\n",
                "    WHERE c2.subject = 'ENGL'\r\n",
                ")\r\n",
                "ORDER BY s.last_name, s.first_name;\r\n",
                "\r\n",
                ""
            ],
            "metadata": {
                "language": "sql",
                "azdata_cell_guid": "67c2700e-663a-4e12-8a5e-b8cda5ca0885"
            },
            "outputs": [
                {
                    "output_type": "display_data",
                    "data": {
                        "text/html": "(8 rows affected)"
                    },
                    "metadata": {}
                },
                {
                    "output_type": "display_data",
                    "data": {
                        "text/html": "Total execution time: 00:00:00.131"
                    },
                    "metadata": {}
                },
                {
                    "output_type": "execute_result",
                    "metadata": {},
                    "execution_count": 11,
                    "data": {
                        "application/vnd.dataresource+json": {
                            "schema": {
                                "fields": [
                                    {
                                        "name": "first_name"
                                    },
                                    {
                                        "name": "last_name"
                                    }
                                ]
                            },
                            "data": [
                                {
                                    "first_name": "Mia",
                                    "last_name": "Anderson"
                                },
                                {
                                    "first_name": "John",
                                    "last_name": "Doe"
                                },
                                {
                                    "first_name": "John",
                                    "last_name": "Doe"
                                },
                                {
                                    "first_name": "Karen",
                                    "last_name": "Gonzalez"
                                },
                                {
                                    "first_name": "Rick",
                                    "last_name": "Martin"
                                },
                                {
                                    "first_name": "Paul",
                                    "last_name": "Moore"
                                },
                                {
                                    "first_name": "Jane",
                                    "last_name": "Smith"
                                },
                                {
                                    "first_name": "Jane",
                                    "last_name": "Smith"
                                }
                            ]
                        },
                        "text/html": [
                            "<table>",
                            "<tr><th>first_name</th><th>last_name</th></tr>",
                            "<tr><td>Mia</td><td>Anderson</td></tr>",
                            "<tr><td>John</td><td>Doe</td></tr>",
                            "<tr><td>John</td><td>Doe</td></tr>",
                            "<tr><td>Karen</td><td>Gonzalez</td></tr>",
                            "<tr><td>Rick</td><td>Martin</td></tr>",
                            "<tr><td>Paul</td><td>Moore</td></tr>",
                            "<tr><td>Jane</td><td>Smith</td></tr>",
                            "<tr><td>Jane</td><td>Smith</td></tr>",
                            "</table>"
                        ]
                    }
                }
            ],
            "execution_count": 11
        },
        {
            "cell_type": "markdown",
            "source": [
                "5\\. In the below cell, write a query that shows the course subject, number, name, and tuition, as well as an average for tuition of courses with the same subject. Remember, you partition by the column that you want to group by.\n",
                "\n",
                "First 5 rows of correct solution:\n",
                "|subject|course_num|course_name|tuition|avg_tuition_per_subject|\n",
                "|---|---|---|---|---|\n",
                "|CIS|101|Intro to Programming|300|586|\n",
                "|CIS|102|Data Structures|700|586|\n",
                "|CIS|201|Databases|450|586|\n",
                "|CIS|202|Operating Systems|690|586|\n",
                "|CIS|203|Network Security|680|586|\n",
                ""
            ],
            "metadata": {
                "language": "sql",
                "azdata_cell_guid": "ac9949b5-51e9-475f-bb20-4ecb485d19e0"
            },
            "attachments": {}
        },
        {
            "cell_type": "code",
            "source": [
                "--Your code here\r\n",
                "SELECT \r\n",
                "    c.subject, \r\n",
                "    c.course_number, \r\n",
                "    c.course_title, \r\n",
                "    c.credits AS tuition, \r\n",
                "    AVG(c.credits) OVER (PARTITION BY c.subject) AS avg_tuition\r\n",
                "FROM co_course c;\r\n",
                "\r\n",
                "\r\n",
                ""
            ],
            "metadata": {
                "language": "sql",
                "azdata_cell_guid": "7c92291b-b494-4f41-b5fd-a05e5f5dae9d"
            },
            "outputs": [
                {
                    "output_type": "display_data",
                    "data": {
                        "text/html": "(25 rows affected)"
                    },
                    "metadata": {}
                },
                {
                    "output_type": "display_data",
                    "data": {
                        "text/html": "Total execution time: 00:00:00.099"
                    },
                    "metadata": {}
                },
                {
                    "output_type": "execute_result",
                    "metadata": {},
                    "execution_count": 12,
                    "data": {
                        "application/vnd.dataresource+json": {
                            "schema": {
                                "fields": [
                                    {
                                        "name": "subject"
                                    },
                                    {
                                        "name": "course_number"
                                    },
                                    {
                                        "name": "course_title"
                                    },
                                    {
                                        "name": "tuition"
                                    },
                                    {
                                        "name": "avg_tuition"
                                    }
                                ]
                            },
                            "data": [
                                {
                                    "subject": "CIS",
                                    "course_number": "101",
                                    "course_title": "Intro to Programming",
                                    "tuition": "300",
                                    "avg_tuition": "586"
                                },
                                {
                                    "subject": "CIS",
                                    "course_number": "102",
                                    "course_title": "Data Structures",
                                    "tuition": "700",
                                    "avg_tuition": "586"
                                },
                                {
                                    "subject": "CIS",
                                    "course_number": "201",
                                    "course_title": "Databases",
                                    "tuition": "450",
                                    "avg_tuition": "586"
                                },
                                {
                                    "subject": "CIS",
                                    "course_number": "202",
                                    "course_title": "Operating Systems",
                                    "tuition": "690",
                                    "avg_tuition": "586"
                                },
                                {
                                    "subject": "CIS",
                                    "course_number": "203",
                                    "course_title": "Network Security",
                                    "tuition": "680",
                                    "avg_tuition": "586"
                                },
                                {
                                    "subject": "CIS",
                                    "course_number": "301",
                                    "course_title": "Machine Learning",
                                    "tuition": "700",
                                    "avg_tuition": "586"
                                },
                                {
                                    "subject": "ENGL",
                                    "course_number": "203",
                                    "course_title": "Creative Writing",
                                    "tuition": "415",
                                    "avg_tuition": "443"
                                },
                                {
                                    "subject": "ENGL",
                                    "course_number": "202",
                                    "course_title": "British Literature",
                                    "tuition": "460",
                                    "avg_tuition": "443"
                                },
                                {
                                    "subject": "ENGL",
                                    "course_number": "101",
                                    "course_title": "English Composition",
                                    "tuition": "400",
                                    "avg_tuition": "443"
                                },
                                {
                                    "subject": "ENGL",
                                    "course_number": "201",
                                    "course_title": "American Literature",
                                    "tuition": "500",
                                    "avg_tuition": "443"
                                },
                                {
                                    "subject": "HIST",
                                    "course_number": "101",
                                    "course_title": "World History",
                                    "tuition": "450",
                                    "avg_tuition": "467"
                                },
                                {
                                    "subject": "HIST",
                                    "course_number": "201",
                                    "course_title": "American History",
                                    "tuition": "590",
                                    "avg_tuition": "467"
                                },
                                {
                                    "subject": "HIST",
                                    "course_number": "202",
                                    "course_title": "European History",
                                    "tuition": "455",
                                    "avg_tuition": "467"
                                },
                                {
                                    "subject": "HIST",
                                    "course_number": "203",
                                    "course_title": "Modern History",
                                    "tuition": "375",
                                    "avg_tuition": "467"
                                },
                                {
                                    "subject": "MATH",
                                    "course_number": "301",
                                    "course_title": "Abstract Algebra",
                                    "tuition": "500",
                                    "avg_tuition": "512"
                                },
                                {
                                    "subject": "MATH",
                                    "course_number": "202",
                                    "course_title": "Differential Equations",
                                    "tuition": "525",
                                    "avg_tuition": "512"
                                },
                                {
                                    "subject": "MATH",
                                    "course_number": "101",
                                    "course_title": "Calculus I",
                                    "tuition": "500",
                                    "avg_tuition": "512"
                                },
                                {
                                    "subject": "MATH",
                                    "course_number": "102",
                                    "course_title": "Calculus II",
                                    "tuition": "600",
                                    "avg_tuition": "512"
                                },
                                {
                                    "subject": "MATH",
                                    "course_number": "201",
                                    "course_title": "Linear Algebra",
                                    "tuition": "575",
                                    "avg_tuition": "512"
                                },
                                {
                                    "subject": "MATH",
                                    "course_number": "103",
                                    "course_title": "Statistics",
                                    "tuition": "375",
                                    "avg_tuition": "512"
                                },
                                {
                                    "subject": "SCI",
                                    "course_number": "101",
                                    "course_title": "General Biology",
                                    "tuition": "600",
                                    "avg_tuition": "698"
                                },
                                {
                                    "subject": "SCI",
                                    "course_number": "102",
                                    "course_title": "General Chemistry",
                                    "tuition": "670",
                                    "avg_tuition": "698"
                                },
                                {
                                    "subject": "SCI",
                                    "course_number": "201",
                                    "course_title": "Physics I",
                                    "tuition": "900",
                                    "avg_tuition": "698"
                                },
                                {
                                    "subject": "SCI",
                                    "course_number": "202",
                                    "course_title": "Physics II",
                                    "tuition": "720",
                                    "avg_tuition": "698"
                                },
                                {
                                    "subject": "SCI",
                                    "course_number": "203",
                                    "course_title": "Organic Chemistry",
                                    "tuition": "600",
                                    "avg_tuition": "698"
                                }
                            ]
                        },
                        "text/html": [
                            "<table>",
                            "<tr><th>subject</th><th>course_number</th><th>course_title</th><th>tuition</th><th>avg_tuition</th></tr>",
                            "<tr><td>CIS</td><td>101</td><td>Intro to Programming</td><td>300</td><td>586</td></tr>",
                            "<tr><td>CIS</td><td>102</td><td>Data Structures</td><td>700</td><td>586</td></tr>",
                            "<tr><td>CIS</td><td>201</td><td>Databases</td><td>450</td><td>586</td></tr>",
                            "<tr><td>CIS</td><td>202</td><td>Operating Systems</td><td>690</td><td>586</td></tr>",
                            "<tr><td>CIS</td><td>203</td><td>Network Security</td><td>680</td><td>586</td></tr>",
                            "<tr><td>CIS</td><td>301</td><td>Machine Learning</td><td>700</td><td>586</td></tr>",
                            "<tr><td>ENGL</td><td>203</td><td>Creative Writing</td><td>415</td><td>443</td></tr>",
                            "<tr><td>ENGL</td><td>202</td><td>British Literature</td><td>460</td><td>443</td></tr>",
                            "<tr><td>ENGL</td><td>101</td><td>English Composition</td><td>400</td><td>443</td></tr>",
                            "<tr><td>ENGL</td><td>201</td><td>American Literature</td><td>500</td><td>443</td></tr>",
                            "<tr><td>HIST</td><td>101</td><td>World History</td><td>450</td><td>467</td></tr>",
                            "<tr><td>HIST</td><td>201</td><td>American History</td><td>590</td><td>467</td></tr>",
                            "<tr><td>HIST</td><td>202</td><td>European History</td><td>455</td><td>467</td></tr>",
                            "<tr><td>HIST</td><td>203</td><td>Modern History</td><td>375</td><td>467</td></tr>",
                            "<tr><td>MATH</td><td>301</td><td>Abstract Algebra</td><td>500</td><td>512</td></tr>",
                            "<tr><td>MATH</td><td>202</td><td>Differential Equations</td><td>525</td><td>512</td></tr>",
                            "<tr><td>MATH</td><td>101</td><td>Calculus I</td><td>500</td><td>512</td></tr>",
                            "<tr><td>MATH</td><td>102</td><td>Calculus II</td><td>600</td><td>512</td></tr>",
                            "<tr><td>MATH</td><td>201</td><td>Linear Algebra</td><td>575</td><td>512</td></tr>",
                            "<tr><td>MATH</td><td>103</td><td>Statistics</td><td>375</td><td>512</td></tr>",
                            "<tr><td>SCI</td><td>101</td><td>General Biology</td><td>600</td><td>698</td></tr>",
                            "<tr><td>SCI</td><td>102</td><td>General Chemistry</td><td>670</td><td>698</td></tr>",
                            "<tr><td>SCI</td><td>201</td><td>Physics I</td><td>900</td><td>698</td></tr>",
                            "<tr><td>SCI</td><td>202</td><td>Physics II</td><td>720</td><td>698</td></tr>",
                            "<tr><td>SCI</td><td>203</td><td>Organic Chemistry</td><td>600</td><td>698</td></tr>",
                            "</table>"
                        ]
                    }
                }
            ],
            "execution_count": 12
        },
        {
            "cell_type": "markdown",
            "source": [
                "6\\. In the below cell, write a query to drop all of the college tables if they exist:"
            ],
            "metadata": {
                "language": "sql",
                "azdata_cell_guid": "dbd4a2f7-acad-4d55-9793-e4c14df7ad70"
            },
            "attachments": {}
        },
        {
            "cell_type": "code",
            "source": [
                "--Your code here\r\n",
                "DROP TABLE IF EXISTS co_registration;\r\n",
                "DROP TABLE IF EXISTS co_course;\r\n",
                "DROP TABLE IF EXISTS co_student;\r\n",
                "DROP TABLE IF EXISTS co_instructor;\r\n",
                "DROP TABLE IF EXISTS co_major;\r\n",
                "\r\n",
                ""
            ],
            "metadata": {
                "language": "sql",
                "azdata_cell_guid": "993000ee-d8c5-4f92-9c24-9120312ab434"
            },
            "outputs": [
{
    "output_type": "display_data",
    "data": {
        "text/html": "Commands completed successfully."
    },
    "metadata": {}
}, {
    "output_type": "display_data",
    "data": {
        "text/html": "Total execution time: 00:00:00.131"
    },
    "metadata": {}
}
],
            "execution_count": 13
        }
    ]
}